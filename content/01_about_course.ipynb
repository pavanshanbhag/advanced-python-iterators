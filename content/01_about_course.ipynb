{
 "cells": [
  {
   "cell_type": "markdown",
   "id": "350bb675-2b0b-46bb-bce1-e92cf6bb3cee",
   "metadata": {},
   "source": [
    "## Which Python version are we using?"
   ]
  },
  {
   "cell_type": "markdown",
   "id": "74a3f2d6",
   "metadata": {},
   "source": [
    "<div style=\"text-align: center\"><strong>Python3.8+</strong></div>"
   ]
  },
  {
   "cell_type": "markdown",
   "id": "e8c2ef34-62bc-405d-b091-7a4177a73d39",
   "metadata": {},
   "source": [
    "| Branch | Schedule                                       | Status        | First release | End of life  | Release manager       |\n",
    "| ------ | ---------------------------------------------- | ------------- | ------------- | ------------ | --------------------- |\n",
    "| main   | [PEP 719](https://peps.python.org/pep-0719/)   | feature       | _2024-10-01_  | _2029-10_    | Thomas Wouters        |\n",
    "| 3.12   | [PEP 693](https://peps.python.org/pep-0693/)   | prerelease    | _2023-10-02_  | _2028-10_    | Thomas Wouters        |\n",
    "| 3.11   | [PEP 664](https://peps.python.org/pep-0664/)   | bugfix        | 2022-10-24    | _2027-10_    | Pablo Galindo Salgado |\n",
    "| 3.10   | [PEP 619](https://peps.python.org/pep-0619/)   | security      | 2021-10-04    | _2026-10_    | Pablo Galindo Salgado |\n",
    "| 3.9    | [PEP 596](https://peps.python.org/pep-0596/)   | security      | 2020-10-05    | _2025-10_    | Łukasz Langa          |\n",
    "| 3.8    | [PEP 569](https://peps.python.org/pep-0569/)   | security      | 2019-10-14    | _2024-10_    | Łukasz Langa          |\n",
    "\n"
   ]
  },
  {
   "cell_type": "markdown",
   "id": "dcd5f65d",
   "metadata": {},
   "source": [
    "## Python Installation\n",
    "\n",
    "Follow the guide in the official Python documentation on how to do it for different operating systems: [Windows](https://docs.python.org/3/using/windows.html#installation-steps), [Mac](https://docs.python.org/3/using/mac.html#getting-and-installing-macpython), or [Unix](https://docs.python.org/3/using/unix.html#getting-and-installing-the-latest-version-of-python) systems."
   ]
  },
  {
   "cell_type": "markdown",
   "id": "0f377230-a4b2-4b42-a1f3-fb6e63ddfd8f",
   "metadata": {},
   "source": [
    "## Running different Python version in Windows\n",
    "[![python_launcher_windows](../static/python_launcher_windows.png)](../static/python_launcher_windows.png)"
   ]
  },
  {
   "cell_type": "markdown",
   "id": "6ded9297",
   "metadata": {},
   "source": [
    "## Running different Python version in Linux\n",
    "\n",
    "[![python_launcher_ubuntu](../static/python_launcher_ubuntu.png)](../static/python_launcher_ubuntu.png)"
   ]
  },
  {
   "cell_type": "markdown",
   "id": "c2640e85",
   "metadata": {},
   "source": [
    "## Download and extract the course material\n",
    "1. If Git is installed on the system, clone the repository by running: \n",
    "    ```bash\n",
    "    git clone https://github.com/pavanshanbhag/python-programming.git\n",
    "    ```\n",
    "   Otherwise, download the zip from [Python-Programming](https://github.com/pavanshanbhag/python-programming/archive/refs/heads/main.zip) and extract the content.\n",
    "\n",
    "2. Rename the root directory to `python-programming`. This step is necessary only if the extracted folder has a different name.\n",
    "\n",
    "** Root Folder Structure:**\n",
    "```plaintext\n",
    "    python-programming\n",
    "        |-- session1\n",
    "        |   |-- xyz.ipynb\n",
    "        |-- session2\n",
    "        |   |-- xyz.ipynb\n",
    "        |-- session3\n",
    "        |-- session4\n",
    "        |-- static\n",
    "        |-- .gitignore\n",
    "        |-- README.md"
   ]
  },
  {
   "cell_type": "markdown",
   "id": "fe18d738",
   "metadata": {},
   "source": [
    "## Running Jupyter Lab\n",
    "\n",
    "**From a command prompt:**\n",
    "1. Navigate to your project root folder.\n",
    "2. Activate your virtual environment.\n",
    "    - If JupyterLab is not installed, Install it with pip: `pip install jupyterlab`\n",
    "3. Launch JupyterLab with: `jupyter lab`\n",
    "4. If a web browser does not automatically open up, find the URL in the command prompt window (output when Jupyter starts up), and paste that URL into your browser.\n",
    "\n",
    "You can create Jupyter notebooks anywhere in your project folder - it does not have to be in the root of your project folder. You can create sub-folders and organize your notebooks however you want - just like you would organize Excel or Word documents.\n",
    "\n",
    "\n"
   ]
  },
  {
   "cell_type": "markdown",
   "id": "f1199674-35da-4130-8804-4dbeef3208a4",
   "metadata": {},
   "source": [
    "## Keyboard Shortcuts\n",
    "\n",
    "- Execute a cell: Shift+Enter\n",
    "- Select current cell: Esc (or click on cell margin)\n",
    "- Delete selected cell: DD (type D twice in succession)\n",
    "- Change selected cell to Markup: M\n",
    "- Change selected cell to Code: Y\n",
    "- Save: S\n",
    "- Insert cell above currently selected cell: B\n",
    "- Insert cell after currently selected cell: A\n",
    "\n",
    "Don't forget to re-run your Jupyter notebook when you re-load it later - this will re-execute all the cells (but it will stop processing the cells if it encounters an error).\n",
    "\n",
    "**Project Jupyter documentation:** [https://docs.jupyter.org/en/latest/](https://docs.jupyter.org/en/latest/)"
   ]
  },
  {
   "cell_type": "code",
   "execution_count": null,
   "id": "71d94c5d-1cf0-41a5-9a44-256f39821d0b",
   "metadata": {},
   "outputs": [],
   "source": []
  }
 ],
 "metadata": {
  "kernelspec": {
   "display_name": "Python 3 (ipykernel)",
   "language": "python",
   "name": "python3"
  },
  "language_info": {
   "codemirror_mode": {
    "name": "ipython",
    "version": 3
   },
   "file_extension": ".py",
   "mimetype": "text/x-python",
   "name": "python",
   "nbconvert_exporter": "python",
   "pygments_lexer": "ipython3",
   "version": "3.12.2"
  }
 },
 "nbformat": 4,
 "nbformat_minor": 5
}
